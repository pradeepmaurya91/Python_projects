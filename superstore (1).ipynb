{
 "cells": [
  {
   "cell_type": "code",
   "execution_count": null,
   "id": "4cc86b24-217e-4968-9b9a-4cfcfd927308",
   "metadata": {},
   "outputs": [],
   "source": [
    "1 #The system must allow for multiple items to be processed in a single transaction.\n",
    "2 # The conditional statments should be used to apply discounts based on criteria (eg.total amount,item type, or promotion)\n",
    "3 # The program should calculate and display the subtotal any discounts applied and the final total amount due\n",
    "4 # The itemized bill should display the name quantity price of each item and the final total after discounts\n",
    "5 # Loops should be utilized to handle countinuous input of item until the billing process is comple\n",
    "\n"
   ]
  },
  {
   "cell_type": "markdown",
   "id": "c4b73c45-7ce9-4d35-9dee-15e054e74b8d",
   "metadata": {},
   "source": [
    "super market billing system"
   ]
  },
  {
   "cell_type": "code",
   "execution_count": null,
   "id": "5b0b14fa-aa05-4628-a297-01fc065a436a",
   "metadata": {},
   "outputs": [],
   "source": [
    "while True:\n",
    "    amount = 0\n",
    "    customer_name = input(\"Enter customer name \")\n",
    "    while True:\n",
    "        print(\"Enter the price and quantity\")\n",
    "        price = float(input(\"enter price\"))\n",
    "        quantity = float(input(\"enter quantity\"))\n",
    "        amount+=price*quantity\n",
    "        repeat = input(\"do you want to add more items\")\n",
    "        if repeat == \"no\":\n",
    "            break\n",
    "    print(amount)\n",
    "    \n",
    "    if (amount>0):\n",
    "        if amount<=2000:\n",
    "            dis = amount*0.07\n",
    "        elif amount<=5000:\n",
    "            dis=amount*0.15\n",
    "        elif amount<=10000:\n",
    "            dis=amount*0.25\n",
    "        else:\n",
    "            dis= amount*0.3\n",
    "        print(\"discount:\",dis)\n",
    "        print(\"Net Pay:\", amount-dis)\n",
    "    else:\n",
    "        print(\"Invalid Amount\")\n",
    "    \n",
    "    print(\"-\"*40)\n",
    "    print(\"customer name\", customer_name)\n",
    "    print(\"Total Amount\", amount)\n",
    "    print(\"-\"*40)\n",
    "\n",
    "    n_person = input(\"is there another in queue? \")\n",
    "    if n_person == \"no\":\n",
    "        break\n",
    "\n",
    "print(\"Thank you! \")\n",
    "    "
   ]
  },
  {
   "cell_type": "code",
   "execution_count": null,
   "id": "0ad21c1f-78be-4da9-b04b-0ebf58a0e528",
   "metadata": {},
   "outputs": [],
   "source": [
    "    "
   ]
  }
 ],
 "metadata": {
  "kernelspec": {
   "display_name": "Python 3 (ipykernel)",
   "language": "python",
   "name": "python3"
  },
  "language_info": {
   "codemirror_mode": {
    "name": "ipython",
    "version": 3
   },
   "file_extension": ".py",
   "mimetype": "text/x-python",
   "name": "python",
   "nbconvert_exporter": "python",
   "pygments_lexer": "ipython3",
   "version": "3.13.1"
  }
 },
 "nbformat": 4,
 "nbformat_minor": 5
}

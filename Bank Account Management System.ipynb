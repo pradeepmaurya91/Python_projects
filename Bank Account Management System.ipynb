{
 "cells": [
  {
   "cell_type": "code",
   "execution_count": 1,
   "id": "955cf122-aa5b-4893-ba42-7be319c70b3e",
   "metadata": {},
   "outputs": [
    {
     "name": "stdout",
     "output_type": "stream",
     "text": [
      "welcome to wscube bank\n",
      "Menu Option: \n",
      "\n",
      "    Press 1 for Openning Account\n",
      "    Press 2 to View account details\n",
      "    Press 3 to withdraw/deposit/transfer\n",
      "    Press 4 to View transaction history\n",
      "    Press 5 to exit the program\n"
     ]
    },
    {
     "name": "stdin",
     "output_type": "stream",
     "text": [
      "enter your choice between 1-5:  1\n",
      "enter pancard number:  pm2334\n",
      "enter your name here:  pradeep maurya\n",
      "Savings/current?  1\n",
      "enter initial deposit:  20000\n"
     ]
    },
    {
     "name": "stdout",
     "output_type": "stream",
     "text": [
      "{'pm2334': ['pradeep maurya', '1', 20000.0, '98765432108227']}\n",
      "Menu Option: \n",
      "\n",
      "    Press 1 for Openning Account\n",
      "    Press 2 to View account details\n",
      "    Press 3 to withdraw/deposit/transfer\n",
      "    Press 4 to View transaction history\n",
      "    Press 5 to exit the program\n"
     ]
    },
    {
     "name": "stdin",
     "output_type": "stream",
     "text": [
      "enter your choice between 1-5:  2\n",
      "enter pancard number:  pm2334\n"
     ]
    },
    {
     "name": "stdout",
     "output_type": "stream",
     "text": [
      "Your account details are: \n",
      "Account Holgers name: pradeep maurya\n",
      "Account Type:  1\n",
      "Account Number:  98765432108227\n",
      "Total Balance:  20000.0\n",
      "Menu Option: \n",
      "\n",
      "    Press 1 for Openning Account\n",
      "    Press 2 to View account details\n",
      "    Press 3 to withdraw/deposit/transfer\n",
      "    Press 4 to View transaction history\n",
      "    Press 5 to exit the program\n"
     ]
    },
    {
     "name": "stdin",
     "output_type": "stream",
     "text": [
      "enter your choice between 1-5:  3\n"
     ]
    },
    {
     "name": "stdout",
     "output_type": "stream",
     "text": [
      "\n",
      "        press 1 to withdraw\n",
      "        press 2 to deposit\n",
      "        press 3 to transfer\n",
      "        \n"
     ]
    },
    {
     "name": "stdin",
     "output_type": "stream",
     "text": [
      "enter a choice betwen 1 to 3 :  1\n",
      "enter pan number:  pm2334\n",
      "enter amount you wish to withdraw:  5000\n"
     ]
    },
    {
     "name": "stdout",
     "output_type": "stream",
     "text": [
      "{'pm2334': ['pradeep maurya', '1', 15000.0, '98765432108227']}\n",
      "{'pm2334': {'2025-01-23 12:23:11': [5000.0, 'debited', 15000.0]}}\n",
      "Menu Option: \n",
      "\n",
      "    Press 1 for Openning Account\n",
      "    Press 2 to View account details\n",
      "    Press 3 to withdraw/deposit/transfer\n",
      "    Press 4 to View transaction history\n",
      "    Press 5 to exit the program\n"
     ]
    },
    {
     "name": "stdin",
     "output_type": "stream",
     "text": [
      "enter your choice between 1-5:  3\n"
     ]
    },
    {
     "name": "stdout",
     "output_type": "stream",
     "text": [
      "\n",
      "        press 1 to withdraw\n",
      "        press 2 to deposit\n",
      "        press 3 to transfer\n",
      "        \n"
     ]
    },
    {
     "name": "stdin",
     "output_type": "stream",
     "text": [
      "enter a choice betwen 1 to 3 :  2\n",
      "enter pan number:  pm2334\n",
      "enter amount you wish to deposit:  500000\n"
     ]
    },
    {
     "name": "stdout",
     "output_type": "stream",
     "text": [
      "{'pm2334': ['pradeep maurya', '1', 515000.0, '98765432108227']}\n",
      "Menu Option: \n",
      "\n",
      "    Press 1 for Openning Account\n",
      "    Press 2 to View account details\n",
      "    Press 3 to withdraw/deposit/transfer\n",
      "    Press 4 to View transaction history\n",
      "    Press 5 to exit the program\n"
     ]
    },
    {
     "name": "stdin",
     "output_type": "stream",
     "text": [
      "enter your choice between 1-5:  3\n"
     ]
    },
    {
     "name": "stdout",
     "output_type": "stream",
     "text": [
      "\n",
      "        press 1 to withdraw\n",
      "        press 2 to deposit\n",
      "        press 3 to transfer\n",
      "        \n"
     ]
    },
    {
     "name": "stdin",
     "output_type": "stream",
     "text": [
      "enter a choice betwen 1 to 3 :  3\n",
      "enter pan number:  pm2334\n",
      "enter account number you wish to transfer to:  20000\n",
      "enter amount you wish to transfer:  2000\n"
     ]
    },
    {
     "name": "stdout",
     "output_type": "stream",
     "text": [
      "transfer successful!\n",
      "{'pm2334': ['pradeep maurya', '1', 513000.0, '98765432108227']}\n",
      "Menu Option: \n",
      "\n",
      "    Press 1 for Openning Account\n",
      "    Press 2 to View account details\n",
      "    Press 3 to withdraw/deposit/transfer\n",
      "    Press 4 to View transaction history\n",
      "    Press 5 to exit the program\n"
     ]
    },
    {
     "name": "stdin",
     "output_type": "stream",
     "text": [
      "enter your choice between 1-5:  4\n",
      "enter pancard number:  pm2334\n"
     ]
    },
    {
     "name": "stdout",
     "output_type": "stream",
     "text": [
      "your transactions are: \n",
      "Date and Time  Amount  Type  Current Amount\n",
      "2025-01-23 12:23:11     5000.0     debited     15000.0\n",
      "2025-01-23 12:23:43     500000.0     credited     515000.0\n",
      "2025-01-23 12:24:40     2000.0     credited     513000.0\n",
      "Menu Option: \n",
      "\n",
      "    Press 1 for Openning Account\n",
      "    Press 2 to View account details\n",
      "    Press 3 to withdraw/deposit/transfer\n",
      "    Press 4 to View transaction history\n",
      "    Press 5 to exit the program\n"
     ]
    },
    {
     "name": "stdin",
     "output_type": "stream",
     "text": [
      "enter your choice between 1-5:  5\n"
     ]
    }
   ],
   "source": [
    "### account_details = {}\n",
    "details = []\n",
    "import datetime as dt\n",
    "transactions={}\n",
    "import random\n",
    "\n",
    "print(\"welcome to wscube bank\")\n",
    "\n",
    "while True:\n",
    "    print(\"Menu Option: \")\n",
    "    print(\"\"\"\n",
    "    Press 1 for Openning Account\n",
    "    Press 2 to View account details\n",
    "    Press 3 to withdraw/deposit/transfer\n",
    "    Press 4 to View transaction history\n",
    "    Press 5 to exit the program\"\"\")\n",
    "    \n",
    "    choice = int(input(\"enter your choice between 1-5: \"))\n",
    "    \n",
    "    if choice ==1:\n",
    "        pancard = input(\"enter pancard number: \")\n",
    "        name = input(\"enter your name here: \")\n",
    "        account_type = input(\"Savings/current? \")\n",
    "        initial_deposit = float(input(\"enter initial deposit: \"))\n",
    "        account_no = \"9876543210\"+ str(random.randint(1000,9999))\n",
    "        details.append(name)\n",
    "        details.append(account_type)\n",
    "        details.append(initial_deposit)\n",
    "        details.append(account_no)\n",
    "        \n",
    "        account_details[pancard] = details\n",
    "        print(account_details)\n",
    "    \n",
    "    elif choice == 2:\n",
    "        ask_pan = input(\"enter pancard number: \")\n",
    "        print(\"Your account details are: \")\n",
    "        print(\"Account Holgers name:\", account_details[ask_pan][0])\n",
    "        print(\"Account Type: \", account_details[ask_pan][1])\n",
    "        print(\"Account Number: \", account_details[ask_pan][-1])\n",
    "        print(\"Total Balance: \", account_details[ask_pan][2])\n",
    "    elif choice == 3:\n",
    "        t_data = []\n",
    "        print(\"\"\"\n",
    "        press 1 to withdraw\n",
    "        press 2 to deposit\n",
    "        press 3 to transfer\n",
    "        \"\"\")\n",
    "        n_choice = int(input(\"enter a choice betwen 1 to 3 : \"))\n",
    "        \n",
    "        if n_choice == 1:\n",
    "            ask_pan = input(\"enter pan number: \")\n",
    "            amount = float(input(\"enter amount you wish to withdraw: \"))\n",
    "            if amount > account_details[ask_pan][2]:\n",
    "                print(\"The amount you have mentioned is more than your deposited amount\")\n",
    "            else:\n",
    "                account_details[ask_pan][2] -= amount\n",
    "                timestamp = dt.datetime.now()\n",
    "                ts = timestamp.strftime(\"%Y-%m-%d %H:%M:%S\")\n",
    "                t_data = []\n",
    "                t_data.append(amount)\n",
    "                t_data.append(\"debited\")\n",
    "                t_data.append(account_details[ask_pan][2])\n",
    "                if len(transactions)==0:\n",
    "                    transactions[ask_pan] = {}\n",
    "                transactions[ask_pan][ts] = t_data\n",
    "                \n",
    "            print(account_details)\n",
    "            print(transactions)\n",
    "    \n",
    "            \n",
    "        elif n_choice == 2:\n",
    "            ask_pan = input(\"enter pan number: \")\n",
    "            amount = float(input(\"enter amount you wish to deposit: \"))\n",
    "            account_details[ask_pan][2] += amount\n",
    "            timestamp = dt.datetime.now()\n",
    "            ts = timestamp.strftime(\"%Y-%m-%d %H:%M:%S\")\n",
    "            t_data = []\n",
    "            t_data.append(amount)\n",
    "            t_data.append(\"credited\")\n",
    "            t_data.append(account_details[ask_pan][2])\n",
    "            if len(transactions)==0:\n",
    "                    transactions[ask_pan] = {}\n",
    "            transactions[ask_pan][ts] = t_data\n",
    "            print(account_details)\n",
    "        else:\n",
    "            ask_pan = input(\"enter pan number: \")\n",
    "            amount_no = input(\"enter account number you wish to transfer to: \")\n",
    "            amount = float(input(\"enter amount you wish to transfer: \"))\n",
    "            if amount >  account_details[ask_pan][2]:\n",
    "                print(\"The amount you have mentioned is more than your deposited amount\")\n",
    "            else:\n",
    "                account_details[ask_pan][2] -= amount\n",
    "                print(\"transfer successful!\")\n",
    "                timestamp = dt.datetime.now()\n",
    "                ts = timestamp.strftime(\"%Y-%m-%d %H:%M:%S\")\n",
    "                t_data = []\n",
    "                t_data.append(amount)\n",
    "                t_data.append(\"credited\")\n",
    "                t_data.append(account_details[ask_pan][2])\n",
    "                if len(transactions)==0:\n",
    "                    transactions[ask_pan] = {}\n",
    "                transactions[ask_pan][ts] = t_data\n",
    "            print(account_details)\n",
    "    elif choice==4:\n",
    "        ask_pan = input(\"enter pancard number: \")\n",
    "        print(\"your transactions are: \")\n",
    "        \n",
    "        \"-\"*50\n",
    "        print(\"Date and Time\", \"\"*9, \"Amount\",\"\"*3, \"Type\",\"\"*3, \"Current Amount\")\n",
    "        \"-\"*50\n",
    "        for i, j in transactions.items():\n",
    "            for k, l in j.items():\n",
    "                print(k, \" \"*3  ,l[0],\" \"*3, l[1], \" \"*3, l[2])\n",
    "    elif choice ==5:\n",
    "        break\n",
    "        \n",
    "        \n",
    "                \n",
    "                \n"
   ]
  },
  {
   "cell_type": "code",
   "execution_count": null,
   "id": "647f25dc-315d-4b8f-a080-caf121f7d131",
   "metadata": {},
   "outputs": [],
   "source": []
  },
  {
   "cell_type": "code",
   "execution_count": null,
   "id": "105902e5-9f1d-43ac-9e1f-2323c897a7bd",
   "metadata": {},
   "outputs": [],
   "source": []
  }
 ],
 "metadata": {
  "kernelspec": {
   "display_name": "Python 3 (ipykernel)",
   "language": "python",
   "name": "python3"
  },
  "language_info": {
   "codemirror_mode": {
    "name": "ipython",
    "version": 3
   },
   "file_extension": ".py",
   "mimetype": "text/x-python",
   "name": "python",
   "nbconvert_exporter": "python",
   "pygments_lexer": "ipython3",
   "version": "3.13.1"
  }
 },
 "nbformat": 4,
 "nbformat_minor": 5
}
